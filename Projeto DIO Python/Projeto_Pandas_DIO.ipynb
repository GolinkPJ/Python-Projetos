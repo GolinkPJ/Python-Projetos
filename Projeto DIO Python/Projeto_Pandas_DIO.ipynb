{
 "cells": [
  {
   "cell_type": "code",
   "execution_count": 198,
   "id": "7ad31f95",
   "metadata": {},
   "outputs": [],
   "source": [
    "#Importar as bibliotecas necessárias\n",
    "\n",
    "import pandas as pd\n",
    "import matplotlib.pyplot as plt"
   ]
  },
  {
   "cell_type": "code",
   "execution_count": 199,
   "id": "0bc0f364",
   "metadata": {},
   "outputs": [],
   "source": [
    "#Configurando apresentação de valores\n",
    "pd.options.display.float_format = '{:20,.2f}'.format"
   ]
  },
  {
   "cell_type": "code",
   "execution_count": 200,
   "id": "4333dcf0",
   "metadata": {},
   "outputs": [],
   "source": [
    "#Alterando o estilo de paresentação dos gráficos\n",
    "plt.style.use('seaborn')"
   ]
  },
  {
   "cell_type": "code",
   "execution_count": 201,
   "id": "ae8e686e",
   "metadata": {},
   "outputs": [],
   "source": [
    "#Ler a basa de dados\n",
    "\n",
    "df = pd.read_excel('AdventureWorks.xlsx')"
   ]
  },
  {
   "cell_type": "code",
   "execution_count": 202,
   "id": "b2513ffe",
   "metadata": {},
   "outputs": [
    {
     "data": {
      "text/html": [
       "<div>\n",
       "<style scoped>\n",
       "    .dataframe tbody tr th:only-of-type {\n",
       "        vertical-align: middle;\n",
       "    }\n",
       "\n",
       "    .dataframe tbody tr th {\n",
       "        vertical-align: top;\n",
       "    }\n",
       "\n",
       "    .dataframe thead th {\n",
       "        text-align: right;\n",
       "    }\n",
       "</style>\n",
       "<table border=\"1\" class=\"dataframe\">\n",
       "  <thead>\n",
       "    <tr style=\"text-align: right;\">\n",
       "      <th></th>\n",
       "      <th>Data Venda</th>\n",
       "      <th>Data Envio</th>\n",
       "      <th>ID Loja</th>\n",
       "      <th>ID Produto</th>\n",
       "      <th>ID Cliente</th>\n",
       "      <th>No. Venda</th>\n",
       "      <th>Custo Unitário</th>\n",
       "      <th>Preço Unitário</th>\n",
       "      <th>Quantidade</th>\n",
       "      <th>Valor Desconto</th>\n",
       "      <th>Valor Venda</th>\n",
       "      <th>Produto</th>\n",
       "      <th>Fabricante</th>\n",
       "      <th>Marca</th>\n",
       "      <th>Classe</th>\n",
       "      <th>Cor</th>\n",
       "    </tr>\n",
       "  </thead>\n",
       "  <tbody>\n",
       "    <tr>\n",
       "      <th>0</th>\n",
       "      <td>2008-05-09</td>\n",
       "      <td>2008-05-29</td>\n",
       "      <td>199</td>\n",
       "      <td>384</td>\n",
       "      <td>18839</td>\n",
       "      <td>200805093CS607</td>\n",
       "      <td>348.58</td>\n",
       "      <td>758.00</td>\n",
       "      <td>6</td>\n",
       "      <td>0.00</td>\n",
       "      <td>4,548.00</td>\n",
       "      <td>Adventure Works Laptop15.4W M1548 Red</td>\n",
       "      <td>Adventure Works</td>\n",
       "      <td>Adventure Works</td>\n",
       "      <td>Regular</td>\n",
       "      <td>Red</td>\n",
       "    </tr>\n",
       "    <tr>\n",
       "      <th>1</th>\n",
       "      <td>2008-05-12</td>\n",
       "      <td>2008-05-17</td>\n",
       "      <td>306</td>\n",
       "      <td>384</td>\n",
       "      <td>19051</td>\n",
       "      <td>200805123CS567</td>\n",
       "      <td>348.58</td>\n",
       "      <td>758.00</td>\n",
       "      <td>6</td>\n",
       "      <td>0.00</td>\n",
       "      <td>4,548.00</td>\n",
       "      <td>Adventure Works Laptop15.4W M1548 Red</td>\n",
       "      <td>Adventure Works</td>\n",
       "      <td>Adventure Works</td>\n",
       "      <td>Regular</td>\n",
       "      <td>Red</td>\n",
       "    </tr>\n",
       "    <tr>\n",
       "      <th>2</th>\n",
       "      <td>2008-05-14</td>\n",
       "      <td>2008-05-20</td>\n",
       "      <td>306</td>\n",
       "      <td>384</td>\n",
       "      <td>19052</td>\n",
       "      <td>200805143CS576</td>\n",
       "      <td>348.58</td>\n",
       "      <td>758.00</td>\n",
       "      <td>6</td>\n",
       "      <td>0.00</td>\n",
       "      <td>4,548.00</td>\n",
       "      <td>Adventure Works Laptop15.4W M1548 Red</td>\n",
       "      <td>Adventure Works</td>\n",
       "      <td>Adventure Works</td>\n",
       "      <td>Regular</td>\n",
       "      <td>Red</td>\n",
       "    </tr>\n",
       "    <tr>\n",
       "      <th>3</th>\n",
       "      <td>2008-05-21</td>\n",
       "      <td>2008-05-27</td>\n",
       "      <td>306</td>\n",
       "      <td>384</td>\n",
       "      <td>19052</td>\n",
       "      <td>200805213CS576</td>\n",
       "      <td>348.58</td>\n",
       "      <td>758.00</td>\n",
       "      <td>6</td>\n",
       "      <td>0.00</td>\n",
       "      <td>4,548.00</td>\n",
       "      <td>Adventure Works Laptop15.4W M1548 Red</td>\n",
       "      <td>Adventure Works</td>\n",
       "      <td>Adventure Works</td>\n",
       "      <td>Regular</td>\n",
       "      <td>Red</td>\n",
       "    </tr>\n",
       "    <tr>\n",
       "      <th>4</th>\n",
       "      <td>2008-06-20</td>\n",
       "      <td>2008-06-27</td>\n",
       "      <td>306</td>\n",
       "      <td>384</td>\n",
       "      <td>19053</td>\n",
       "      <td>200806203CS586</td>\n",
       "      <td>348.58</td>\n",
       "      <td>758.00</td>\n",
       "      <td>6</td>\n",
       "      <td>0.00</td>\n",
       "      <td>4,548.00</td>\n",
       "      <td>Adventure Works Laptop15.4W M1548 Red</td>\n",
       "      <td>Adventure Works</td>\n",
       "      <td>Adventure Works</td>\n",
       "      <td>Regular</td>\n",
       "      <td>Red</td>\n",
       "    </tr>\n",
       "  </tbody>\n",
       "</table>\n",
       "</div>"
      ],
      "text/plain": [
       "  Data Venda Data Envio  ID Loja  ID Produto  ID Cliente       No. Venda  \\\n",
       "0 2008-05-09 2008-05-29      199         384       18839  200805093CS607   \n",
       "1 2008-05-12 2008-05-17      306         384       19051  200805123CS567   \n",
       "2 2008-05-14 2008-05-20      306         384       19052  200805143CS576   \n",
       "3 2008-05-21 2008-05-27      306         384       19052  200805213CS576   \n",
       "4 2008-06-20 2008-06-27      306         384       19053  200806203CS586   \n",
       "\n",
       "        Custo Unitário       Preço Unitário  Quantidade       Valor Desconto  \\\n",
       "0               348.58               758.00           6                 0.00   \n",
       "1               348.58               758.00           6                 0.00   \n",
       "2               348.58               758.00           6                 0.00   \n",
       "3               348.58               758.00           6                 0.00   \n",
       "4               348.58               758.00           6                 0.00   \n",
       "\n",
       "           Valor Venda                                Produto  \\\n",
       "0             4,548.00  Adventure Works Laptop15.4W M1548 Red   \n",
       "1             4,548.00  Adventure Works Laptop15.4W M1548 Red   \n",
       "2             4,548.00  Adventure Works Laptop15.4W M1548 Red   \n",
       "3             4,548.00  Adventure Works Laptop15.4W M1548 Red   \n",
       "4             4,548.00  Adventure Works Laptop15.4W M1548 Red   \n",
       "\n",
       "        Fabricante            Marca   Classe  Cor  \n",
       "0  Adventure Works  Adventure Works  Regular  Red  \n",
       "1  Adventure Works  Adventure Works  Regular  Red  \n",
       "2  Adventure Works  Adventure Works  Regular  Red  \n",
       "3  Adventure Works  Adventure Works  Regular  Red  \n",
       "4  Adventure Works  Adventure Works  Regular  Red  "
      ]
     },
     "execution_count": 202,
     "metadata": {},
     "output_type": "execute_result"
    }
   ],
   "source": [
    "# Visualizando a base de dados\n",
    "#Primeiras linhas\n",
    "\n",
    "df.head()"
   ]
  },
  {
   "cell_type": "code",
   "execution_count": 203,
   "id": "f5bb6e5b",
   "metadata": {},
   "outputs": [
    {
     "data": {
      "text/html": [
       "<div>\n",
       "<style scoped>\n",
       "    .dataframe tbody tr th:only-of-type {\n",
       "        vertical-align: middle;\n",
       "    }\n",
       "\n",
       "    .dataframe tbody tr th {\n",
       "        vertical-align: top;\n",
       "    }\n",
       "\n",
       "    .dataframe thead th {\n",
       "        text-align: right;\n",
       "    }\n",
       "</style>\n",
       "<table border=\"1\" class=\"dataframe\">\n",
       "  <thead>\n",
       "    <tr style=\"text-align: right;\">\n",
       "      <th></th>\n",
       "      <th>Data Venda</th>\n",
       "      <th>Data Envio</th>\n",
       "      <th>ID Loja</th>\n",
       "      <th>ID Produto</th>\n",
       "      <th>ID Cliente</th>\n",
       "      <th>No. Venda</th>\n",
       "      <th>Custo Unitário</th>\n",
       "      <th>Preço Unitário</th>\n",
       "      <th>Quantidade</th>\n",
       "      <th>Valor Desconto</th>\n",
       "      <th>Valor Venda</th>\n",
       "      <th>Produto</th>\n",
       "      <th>Fabricante</th>\n",
       "      <th>Marca</th>\n",
       "      <th>Classe</th>\n",
       "      <th>Cor</th>\n",
       "    </tr>\n",
       "  </thead>\n",
       "  <tbody>\n",
       "    <tr>\n",
       "      <th>899</th>\n",
       "      <td>2008-03-22</td>\n",
       "      <td>2008-04-04</td>\n",
       "      <td>306</td>\n",
       "      <td>1226</td>\n",
       "      <td>19049</td>\n",
       "      <td>200803224CS555</td>\n",
       "      <td>330.99</td>\n",
       "      <td>999.00</td>\n",
       "      <td>6</td>\n",
       "      <td>419.58</td>\n",
       "      <td>5,574.42</td>\n",
       "      <td>Fabrikam Trendsetter 1/3'' 8.5mm X200 Black</td>\n",
       "      <td>Fabrikam, Inc.</td>\n",
       "      <td>Fabrikam</td>\n",
       "      <td>Regular</td>\n",
       "      <td>Black</td>\n",
       "    </tr>\n",
       "    <tr>\n",
       "      <th>900</th>\n",
       "      <td>2008-10-04</td>\n",
       "      <td>2008-10-15</td>\n",
       "      <td>306</td>\n",
       "      <td>1155</td>\n",
       "      <td>19057</td>\n",
       "      <td>200810044CS636</td>\n",
       "      <td>324.69</td>\n",
       "      <td>980.00</td>\n",
       "      <td>6</td>\n",
       "      <td>1,176.00</td>\n",
       "      <td>4,704.00</td>\n",
       "      <td>Fabrikam Trendsetter 2/3'' 17mm X100 Black</td>\n",
       "      <td>Fabrikam, Inc.</td>\n",
       "      <td>Fabrikam</td>\n",
       "      <td>Regular</td>\n",
       "      <td>Black</td>\n",
       "    </tr>\n",
       "    <tr>\n",
       "      <th>901</th>\n",
       "      <td>2008-12-11</td>\n",
       "      <td>2008-12-15</td>\n",
       "      <td>306</td>\n",
       "      <td>1155</td>\n",
       "      <td>19060</td>\n",
       "      <td>200812114CS676</td>\n",
       "      <td>324.69</td>\n",
       "      <td>980.00</td>\n",
       "      <td>6</td>\n",
       "      <td>1,176.00</td>\n",
       "      <td>4,704.00</td>\n",
       "      <td>Fabrikam Trendsetter 2/3'' 17mm X100 Black</td>\n",
       "      <td>Fabrikam, Inc.</td>\n",
       "      <td>Fabrikam</td>\n",
       "      <td>Regular</td>\n",
       "      <td>Black</td>\n",
       "    </tr>\n",
       "    <tr>\n",
       "      <th>902</th>\n",
       "      <td>2008-12-17</td>\n",
       "      <td>2008-12-21</td>\n",
       "      <td>306</td>\n",
       "      <td>1226</td>\n",
       "      <td>19060</td>\n",
       "      <td>200812174CS676</td>\n",
       "      <td>330.99</td>\n",
       "      <td>999.00</td>\n",
       "      <td>6</td>\n",
       "      <td>1,198.80</td>\n",
       "      <td>4,795.20</td>\n",
       "      <td>Fabrikam Trendsetter 1/3'' 8.5mm X200 Black</td>\n",
       "      <td>Fabrikam, Inc.</td>\n",
       "      <td>Fabrikam</td>\n",
       "      <td>Regular</td>\n",
       "      <td>Black</td>\n",
       "    </tr>\n",
       "    <tr>\n",
       "      <th>903</th>\n",
       "      <td>2008-12-21</td>\n",
       "      <td>2008-12-25</td>\n",
       "      <td>306</td>\n",
       "      <td>1155</td>\n",
       "      <td>19060</td>\n",
       "      <td>200812214CS676</td>\n",
       "      <td>324.69</td>\n",
       "      <td>980.00</td>\n",
       "      <td>6</td>\n",
       "      <td>1,176.00</td>\n",
       "      <td>4,704.00</td>\n",
       "      <td>Fabrikam Trendsetter 2/3'' 17mm X100 Black</td>\n",
       "      <td>Fabrikam, Inc.</td>\n",
       "      <td>Fabrikam</td>\n",
       "      <td>Regular</td>\n",
       "      <td>Black</td>\n",
       "    </tr>\n",
       "  </tbody>\n",
       "</table>\n",
       "</div>"
      ],
      "text/plain": [
       "    Data Venda Data Envio  ID Loja  ID Produto  ID Cliente       No. Venda  \\\n",
       "899 2008-03-22 2008-04-04      306        1226       19049  200803224CS555   \n",
       "900 2008-10-04 2008-10-15      306        1155       19057  200810044CS636   \n",
       "901 2008-12-11 2008-12-15      306        1155       19060  200812114CS676   \n",
       "902 2008-12-17 2008-12-21      306        1226       19060  200812174CS676   \n",
       "903 2008-12-21 2008-12-25      306        1155       19060  200812214CS676   \n",
       "\n",
       "          Custo Unitário       Preço Unitário  Quantidade  \\\n",
       "899               330.99               999.00           6   \n",
       "900               324.69               980.00           6   \n",
       "901               324.69               980.00           6   \n",
       "902               330.99               999.00           6   \n",
       "903               324.69               980.00           6   \n",
       "\n",
       "          Valor Desconto          Valor Venda  \\\n",
       "899               419.58             5,574.42   \n",
       "900             1,176.00             4,704.00   \n",
       "901             1,176.00             4,704.00   \n",
       "902             1,198.80             4,795.20   \n",
       "903             1,176.00             4,704.00   \n",
       "\n",
       "                                         Produto      Fabricante     Marca  \\\n",
       "899  Fabrikam Trendsetter 1/3'' 8.5mm X200 Black  Fabrikam, Inc.  Fabrikam   \n",
       "900   Fabrikam Trendsetter 2/3'' 17mm X100 Black  Fabrikam, Inc.  Fabrikam   \n",
       "901   Fabrikam Trendsetter 2/3'' 17mm X100 Black  Fabrikam, Inc.  Fabrikam   \n",
       "902  Fabrikam Trendsetter 1/3'' 8.5mm X200 Black  Fabrikam, Inc.  Fabrikam   \n",
       "903   Fabrikam Trendsetter 2/3'' 17mm X100 Black  Fabrikam, Inc.  Fabrikam   \n",
       "\n",
       "      Classe    Cor  \n",
       "899  Regular  Black  \n",
       "900  Regular  Black  \n",
       "901  Regular  Black  \n",
       "902  Regular  Black  \n",
       "903  Regular  Black  "
      ]
     },
     "execution_count": 203,
     "metadata": {},
     "output_type": "execute_result"
    }
   ],
   "source": [
    "# Visualizando a base de dados\n",
    "#Últimas linhas\n",
    "\n",
    "df.tail()"
   ]
  },
  {
   "cell_type": "code",
   "execution_count": 204,
   "id": "a9f7b6b3",
   "metadata": {},
   "outputs": [
    {
     "data": {
      "text/plain": [
       "(904, 16)"
      ]
     },
     "execution_count": 204,
     "metadata": {},
     "output_type": "execute_result"
    }
   ],
   "source": [
    "#Tamanho da base de dados resultado => (linhas, colunas)\n",
    "\n",
    "df.shape"
   ]
  },
  {
   "cell_type": "code",
   "execution_count": 205,
   "id": "bd0cf215",
   "metadata": {},
   "outputs": [
    {
     "data": {
      "text/plain": [
       "Index(['Data Venda', 'Data Envio', 'ID Loja', 'ID Produto', 'ID Cliente',\n",
       "       'No. Venda', 'Custo Unitário', 'Preço Unitário', 'Quantidade',\n",
       "       'Valor Desconto', 'Valor Venda', 'Produto', 'Fabricante', 'Marca',\n",
       "       'Classe', 'Cor'],\n",
       "      dtype='object')"
      ]
     },
     "execution_count": 205,
     "metadata": {},
     "output_type": "execute_result"
    }
   ],
   "source": [
    "#Visualizar o nome das colunas\n",
    "\n",
    "df.columns"
   ]
  },
  {
   "cell_type": "code",
   "execution_count": 206,
   "id": "f8702a45",
   "metadata": {},
   "outputs": [
    {
     "data": {
      "text/plain": [
       "Data Venda        datetime64[ns]\n",
       "Data Envio        datetime64[ns]\n",
       "ID Loja                    int64\n",
       "ID Produto                 int64\n",
       "ID Cliente                 int64\n",
       "No. Venda                 object\n",
       "Custo Unitário           float64\n",
       "Preço Unitário           float64\n",
       "Quantidade                 int64\n",
       "Valor Desconto           float64\n",
       "Valor Venda              float64\n",
       "Produto                   object\n",
       "Fabricante                object\n",
       "Marca                     object\n",
       "Classe                    object\n",
       "Cor                       object\n",
       "dtype: object"
      ]
     },
     "execution_count": 206,
     "metadata": {},
     "output_type": "execute_result"
    }
   ],
   "source": [
    "#Tipo de dados\n",
    "df.dtypes"
   ]
  },
  {
   "cell_type": "code",
   "execution_count": 207,
   "id": "75dfb7a2",
   "metadata": {},
   "outputs": [
    {
     "name": "stdout",
     "output_type": "stream",
     "text": [
      "R$5984606.14\n"
     ]
    }
   ],
   "source": [
    "#Receita total\n",
    "total_vendas = df['Valor Venda'].sum()\n",
    "print(f'R${total_vendas:.2f}')"
   ]
  },
  {
   "cell_type": "code",
   "execution_count": 208,
   "id": "711deab6",
   "metadata": {},
   "outputs": [
    {
     "data": {
      "text/plain": [
       "2486783.05"
      ]
     },
     "execution_count": 208,
     "metadata": {},
     "output_type": "execute_result"
    }
   ],
   "source": [
    "#Custo Total\n",
    "df['Custo Total'] = (df['Custo Unitário'] * df['Quantidade'])\n",
    "total_custo = df['Custo Total'].sum()\n",
    "total_custo"
   ]
  },
  {
   "cell_type": "code",
   "execution_count": 209,
   "id": "a91127cb",
   "metadata": {},
   "outputs": [
    {
     "data": {
      "text/plain": [
       "3497823.0926"
      ]
     },
     "execution_count": 209,
     "metadata": {},
     "output_type": "execute_result"
    }
   ],
   "source": [
    "#Lucro\n",
    "df['Lucro'] = df['Valor Venda']-df['Custo Total']\n",
    "lucro_total = df['Lucro'].sum()\n",
    "lucro_total"
   ]
  },
  {
   "cell_type": "code",
   "execution_count": 210,
   "id": "28c9ebeb",
   "metadata": {},
   "outputs": [
    {
     "data": {
      "text/plain": [
       "dtype('int64')"
      ]
     },
     "execution_count": 210,
     "metadata": {},
     "output_type": "execute_result"
    }
   ],
   "source": [
    "#Tempo de envio para cada produto em dias\n",
    "df['Tempo Envio'] = (df['Data Envio'] - df['Data Venda']).dt.days\n",
    "df['Tempo Envio'].dtypes"
   ]
  },
  {
   "cell_type": "code",
   "execution_count": 211,
   "id": "0524db49",
   "metadata": {},
   "outputs": [
    {
     "data": {
      "text/plain": [
       "Marca\n",
       "Adventure Works                   8.66\n",
       "Contoso                           8.47\n",
       "Fabrikam                          8.51\n",
       "Name: Tempo Envio, dtype: float64"
      ]
     },
     "execution_count": 211,
     "metadata": {},
     "output_type": "execute_result"
    }
   ],
   "source": [
    "#Média de tempo de envio dos produtos por marca\n",
    "df.groupby('Marca')['Tempo Envio'].mean()"
   ]
  },
  {
   "cell_type": "code",
   "execution_count": 212,
   "id": "6aa56f96",
   "metadata": {},
   "outputs": [
    {
     "data": {
      "text/plain": [
       "Data Venda        0\n",
       "Data Envio        0\n",
       "ID Loja           0\n",
       "ID Produto        0\n",
       "ID Cliente        0\n",
       "No. Venda         0\n",
       "Custo Unitário    0\n",
       "Preço Unitário    0\n",
       "Quantidade        0\n",
       "Valor Desconto    0\n",
       "Valor Venda       0\n",
       "Produto           0\n",
       "Fabricante        0\n",
       "Marca             0\n",
       "Classe            0\n",
       "Cor               0\n",
       "Custo Total       0\n",
       "Lucro             0\n",
       "Tempo Envio       0\n",
       "dtype: int64"
      ]
     },
     "execution_count": 212,
     "metadata": {},
     "output_type": "execute_result"
    }
   ],
   "source": [
    "# Contabilizando quantidade de missing values\n",
    "df.isna().sum()"
   ]
  },
  {
   "cell_type": "code",
   "execution_count": 213,
   "id": "7ad4171c",
   "metadata": {},
   "outputs": [
    {
     "data": {
      "text/plain": [
       "Data Venda  Marca          \n",
       "2008        Adventure Works             306,641.16\n",
       "            Contoso                      56,416.00\n",
       "            Fabrikam                  1,557,020.55\n",
       "2009        Adventure Works             405,395.08\n",
       "            Contoso                     138,258.95\n",
       "            Fabrikam                  1,034,091.35\n",
       "Name: Lucro, dtype: float64"
      ]
     },
     "execution_count": 213,
     "metadata": {},
     "output_type": "execute_result"
    }
   ],
   "source": [
    "#Lucro por ano e marca\n",
    "df.groupby([df['Data Venda'].dt.year, 'Marca'])['Lucro'].sum()"
   ]
  },
  {
   "cell_type": "code",
   "execution_count": 214,
   "id": "792d3443",
   "metadata": {},
   "outputs": [
    {
     "data": {
      "text/html": [
       "<div>\n",
       "<style scoped>\n",
       "    .dataframe tbody tr th:only-of-type {\n",
       "        vertical-align: middle;\n",
       "    }\n",
       "\n",
       "    .dataframe tbody tr th {\n",
       "        vertical-align: top;\n",
       "    }\n",
       "\n",
       "    .dataframe thead th {\n",
       "        text-align: right;\n",
       "    }\n",
       "</style>\n",
       "<table border=\"1\" class=\"dataframe\">\n",
       "  <thead>\n",
       "    <tr style=\"text-align: right;\">\n",
       "      <th></th>\n",
       "      <th>Data Venda</th>\n",
       "      <th>Marca</th>\n",
       "      <th>Lucro</th>\n",
       "    </tr>\n",
       "  </thead>\n",
       "  <tbody>\n",
       "    <tr>\n",
       "      <th>0</th>\n",
       "      <td>2008</td>\n",
       "      <td>Adventure Works</td>\n",
       "      <td>306,641.16</td>\n",
       "    </tr>\n",
       "    <tr>\n",
       "      <th>1</th>\n",
       "      <td>2008</td>\n",
       "      <td>Contoso</td>\n",
       "      <td>56,416.00</td>\n",
       "    </tr>\n",
       "    <tr>\n",
       "      <th>2</th>\n",
       "      <td>2008</td>\n",
       "      <td>Fabrikam</td>\n",
       "      <td>1,557,020.55</td>\n",
       "    </tr>\n",
       "    <tr>\n",
       "      <th>3</th>\n",
       "      <td>2009</td>\n",
       "      <td>Adventure Works</td>\n",
       "      <td>405,395.08</td>\n",
       "    </tr>\n",
       "    <tr>\n",
       "      <th>4</th>\n",
       "      <td>2009</td>\n",
       "      <td>Contoso</td>\n",
       "      <td>138,258.95</td>\n",
       "    </tr>\n",
       "    <tr>\n",
       "      <th>5</th>\n",
       "      <td>2009</td>\n",
       "      <td>Fabrikam</td>\n",
       "      <td>1,034,091.35</td>\n",
       "    </tr>\n",
       "  </tbody>\n",
       "</table>\n",
       "</div>"
      ],
      "text/plain": [
       "   Data Venda            Marca                Lucro\n",
       "0        2008  Adventure Works           306,641.16\n",
       "1        2008          Contoso            56,416.00\n",
       "2        2008         Fabrikam         1,557,020.55\n",
       "3        2009  Adventure Works           405,395.08\n",
       "4        2009          Contoso           138,258.95\n",
       "5        2009         Fabrikam         1,034,091.35"
      ]
     },
     "execution_count": 214,
     "metadata": {},
     "output_type": "execute_result"
    }
   ],
   "source": [
    "#Resetando o Index, colocando no formato de tabela com índices\n",
    "lucro_ano = df.groupby([df['Data Venda'].dt.year, 'Marca'])['Lucro'].sum().reset_index()\n",
    "lucro_ano"
   ]
  },
  {
   "cell_type": "code",
   "execution_count": 215,
   "id": "dd562c1b",
   "metadata": {},
   "outputs": [
    {
     "data": {
      "text/plain": [
       "Produto\n",
       "Headphone Adapter for Contoso Phone E130 Silver    25232\n",
       "Headphone Adapter for Contoso Phone E130 White     25008\n",
       "Adventure Works Laptop15.4W M1548 Black             1089\n",
       "Fabrikam Trendsetter 2/3'' 17mm X100 Grey           1087\n",
       "Adventure Works Laptop15.4W M1548 Red               1047\n",
       "Fabrikam Trendsetter 2/3'' 17mm X100 Black           926\n",
       "Fabrikam Trendsetter 1/3'' 8.5mm X200 Black          884\n",
       "Fabrikam Trendsetter 1/3'' 8.5mm X200 Grey           845\n",
       "Fabrikam Trendsetter 1/3'' 8.5mm X200 White          789\n",
       "Name: Quantidade, dtype: int64"
      ]
     },
     "execution_count": 215,
     "metadata": {},
     "output_type": "execute_result"
    }
   ],
   "source": [
    "#Lista com total de produtos vendidos\n",
    "df.groupby('Produto')['Quantidade'].sum().sort_values(ascending=False)"
   ]
  },
  {
   "cell_type": "code",
   "execution_count": 216,
   "id": "31cc9c98",
   "metadata": {},
   "outputs": [
    {
     "data": {
      "text/plain": [
       "Text(0, 0.5, 'Produtos')"
      ]
     },
     "execution_count": 216,
     "metadata": {},
     "output_type": "execute_result"
    },
    {
     "data": {
      "image/png": "[encoded data removed]",
      "text/plain": [
       "<Figure size 576x396 with 1 Axes>"
      ]
     },
     "metadata": {},
     "output_type": "display_data"
    }
   ],
   "source": [
    "#Gráfico Total de produtos vendidos\n",
    "df.groupby('Produto')['Quantidade'].sum().sort_values(ascending=True).plot.barh(title='Total Produtos Vendidos')\n",
    "plt.xlabel('Total')\n",
    "#plt.xticks(rotation=30)\n",
    "plt.ylabel('Produtos')"
   ]
  },
  {
   "cell_type": "code",
   "execution_count": 217,
   "id": "4c27007a",
   "metadata": {},
   "outputs": [
    {
     "data": {
      "text/plain": [
       "Text(0, 0.5, 'Total Lucro')"
      ]
     },
     "execution_count": 217,
     "metadata": {},
     "output_type": "execute_result"
    },
    {
     "data": {
      "image/png": "[encoded data removed]",
      "text/plain": [
       "<Figure size 576x396 with 1 Axes>"
      ]
     },
     "metadata": {},
     "output_type": "display_data"
    }
   ],
   "source": [
    "#Gráfico Ano x Lucro\n",
    "df.groupby(df['Data Venda'].dt.year)['Lucro'].sum().plot.bar(title='Lucro x Ano')\n",
    "plt.xlabel('Ano')\n",
    "plt.ylabel('Total Lucro')"
   ]
  },
  {
   "cell_type": "code",
   "execution_count": 186,
   "id": "e9dbd2f8",
   "metadata": {},
   "outputs": [
    {
     "data": {
      "text/html": [
       "<div>\n",
       "<style scoped>\n",
       "    .dataframe tbody tr th:only-of-type {\n",
       "        vertical-align: middle;\n",
       "    }\n",
       "\n",
       "    .dataframe tbody tr th {\n",
       "        vertical-align: top;\n",
       "    }\n",
       "\n",
       "    .dataframe thead th {\n",
       "        text-align: right;\n",
       "    }\n",
       "</style>\n",
       "<table border=\"1\" class=\"dataframe\">\n",
       "  <thead>\n",
       "    <tr style=\"text-align: right;\">\n",
       "      <th></th>\n",
       "      <th>Data Venda</th>\n",
       "      <th>Data Envio</th>\n",
       "      <th>ID Loja</th>\n",
       "      <th>ID Produto</th>\n",
       "      <th>ID Cliente</th>\n",
       "      <th>No. Venda</th>\n",
       "      <th>Custo Unitário</th>\n",
       "      <th>Preço Unitário</th>\n",
       "      <th>Quantidade</th>\n",
       "      <th>Valor Desconto</th>\n",
       "      <th>Valor Venda</th>\n",
       "      <th>Produto</th>\n",
       "      <th>Fabricante</th>\n",
       "      <th>Marca</th>\n",
       "      <th>Classe</th>\n",
       "      <th>Cor</th>\n",
       "      <th>Custo Total</th>\n",
       "      <th>Lucro</th>\n",
       "      <th>Tempo Envio</th>\n",
       "    </tr>\n",
       "  </thead>\n",
       "  <tbody>\n",
       "    <tr>\n",
       "      <th>11</th>\n",
       "      <td>2009-05-02</td>\n",
       "      <td>2009-05-14</td>\n",
       "      <td>199</td>\n",
       "      <td>384</td>\n",
       "      <td>18938</td>\n",
       "      <td>200905023CS847</td>\n",
       "      <td>348.58</td>\n",
       "      <td>758.00</td>\n",
       "      <td>6</td>\n",
       "      <td>0.00</td>\n",
       "      <td>4,548.00</td>\n",
       "      <td>Adventure Works Laptop15.4W M1548 Red</td>\n",
       "      <td>Adventure Works</td>\n",
       "      <td>Adventure Works</td>\n",
       "      <td>Regular</td>\n",
       "      <td>Red</td>\n",
       "      <td>2,091.48</td>\n",
       "      <td>2,456.52</td>\n",
       "      <td>12</td>\n",
       "    </tr>\n",
       "    <tr>\n",
       "      <th>12</th>\n",
       "      <td>2009-05-16</td>\n",
       "      <td>2009-05-27</td>\n",
       "      <td>306</td>\n",
       "      <td>384</td>\n",
       "      <td>19067</td>\n",
       "      <td>200905163CS746</td>\n",
       "      <td>348.58</td>\n",
       "      <td>758.00</td>\n",
       "      <td>6</td>\n",
       "      <td>0.00</td>\n",
       "      <td>4,548.00</td>\n",
       "      <td>Adventure Works Laptop15.4W M1548 Red</td>\n",
       "      <td>Adventure Works</td>\n",
       "      <td>Adventure Works</td>\n",
       "      <td>Regular</td>\n",
       "      <td>Red</td>\n",
       "      <td>2,091.48</td>\n",
       "      <td>2,456.52</td>\n",
       "      <td>11</td>\n",
       "    </tr>\n",
       "    <tr>\n",
       "      <th>13</th>\n",
       "      <td>2009-05-31</td>\n",
       "      <td>2009-06-12</td>\n",
       "      <td>306</td>\n",
       "      <td>384</td>\n",
       "      <td>19068</td>\n",
       "      <td>200905313CS748</td>\n",
       "      <td>348.58</td>\n",
       "      <td>758.00</td>\n",
       "      <td>6</td>\n",
       "      <td>0.00</td>\n",
       "      <td>4,548.00</td>\n",
       "      <td>Adventure Works Laptop15.4W M1548 Red</td>\n",
       "      <td>Adventure Works</td>\n",
       "      <td>Adventure Works</td>\n",
       "      <td>Regular</td>\n",
       "      <td>Red</td>\n",
       "      <td>2,091.48</td>\n",
       "      <td>2,456.52</td>\n",
       "      <td>12</td>\n",
       "    </tr>\n",
       "    <tr>\n",
       "      <th>14</th>\n",
       "      <td>2009-06-28</td>\n",
       "      <td>2009-07-11</td>\n",
       "      <td>199</td>\n",
       "      <td>384</td>\n",
       "      <td>18959</td>\n",
       "      <td>200906283CS870</td>\n",
       "      <td>348.58</td>\n",
       "      <td>758.00</td>\n",
       "      <td>6</td>\n",
       "      <td>0.00</td>\n",
       "      <td>4,548.00</td>\n",
       "      <td>Adventure Works Laptop15.4W M1548 Red</td>\n",
       "      <td>Adventure Works</td>\n",
       "      <td>Adventure Works</td>\n",
       "      <td>Regular</td>\n",
       "      <td>Red</td>\n",
       "      <td>2,091.48</td>\n",
       "      <td>2,456.52</td>\n",
       "      <td>13</td>\n",
       "    </tr>\n",
       "    <tr>\n",
       "      <th>15</th>\n",
       "      <td>2009-07-08</td>\n",
       "      <td>2009-07-12</td>\n",
       "      <td>306</td>\n",
       "      <td>384</td>\n",
       "      <td>19070</td>\n",
       "      <td>200907083CS757</td>\n",
       "      <td>348.58</td>\n",
       "      <td>758.00</td>\n",
       "      <td>6</td>\n",
       "      <td>0.00</td>\n",
       "      <td>4,548.00</td>\n",
       "      <td>Adventure Works Laptop15.4W M1548 Red</td>\n",
       "      <td>Adventure Works</td>\n",
       "      <td>Adventure Works</td>\n",
       "      <td>Regular</td>\n",
       "      <td>Red</td>\n",
       "      <td>2,091.48</td>\n",
       "      <td>2,456.52</td>\n",
       "      <td>4</td>\n",
       "    </tr>\n",
       "  </tbody>\n",
       "</table>\n",
       "</div>"
      ],
      "text/plain": [
       "   Data Venda Data Envio  ID Loja  ID Produto  ID Cliente       No. Venda  \\\n",
       "11 2009-05-02 2009-05-14      199         384       18938  200905023CS847   \n",
       "12 2009-05-16 2009-05-27      306         384       19067  200905163CS746   \n",
       "13 2009-05-31 2009-06-12      306         384       19068  200905313CS748   \n",
       "14 2009-06-28 2009-07-11      199         384       18959  200906283CS870   \n",
       "15 2009-07-08 2009-07-12      306         384       19070  200907083CS757   \n",
       "\n",
       "         Custo Unitário       Preço Unitário  Quantidade       Valor Desconto  \\\n",
       "11               348.58               758.00           6                 0.00   \n",
       "12               348.58               758.00           6                 0.00   \n",
       "13               348.58               758.00           6                 0.00   \n",
       "14               348.58               758.00           6                 0.00   \n",
       "15               348.58               758.00           6                 0.00   \n",
       "\n",
       "            Valor Venda                                Produto  \\\n",
       "11             4,548.00  Adventure Works Laptop15.4W M1548 Red   \n",
       "12             4,548.00  Adventure Works Laptop15.4W M1548 Red   \n",
       "13             4,548.00  Adventure Works Laptop15.4W M1548 Red   \n",
       "14             4,548.00  Adventure Works Laptop15.4W M1548 Red   \n",
       "15             4,548.00  Adventure Works Laptop15.4W M1548 Red   \n",
       "\n",
       "         Fabricante            Marca   Classe  Cor          Custo Total  \\\n",
       "11  Adventure Works  Adventure Works  Regular  Red             2,091.48   \n",
       "12  Adventure Works  Adventure Works  Regular  Red             2,091.48   \n",
       "13  Adventure Works  Adventure Works  Regular  Red             2,091.48   \n",
       "14  Adventure Works  Adventure Works  Regular  Red             2,091.48   \n",
       "15  Adventure Works  Adventure Works  Regular  Red             2,091.48   \n",
       "\n",
       "                  Lucro  Tempo Envio  \n",
       "11             2,456.52           12  \n",
       "12             2,456.52           11  \n",
       "13             2,456.52           12  \n",
       "14             2,456.52           13  \n",
       "15             2,456.52            4  "
      ]
     },
     "execution_count": 186,
     "metadata": {},
     "output_type": "execute_result"
    }
   ],
   "source": [
    "#Base de Dados apenas com as vendas de 2009\n",
    "df_2009 = df[df['Data Venda'].dt.year == 2009]\n",
    "df_2009.head()"
   ]
  },
  {
   "cell_type": "code",
   "execution_count": 218,
   "id": "73aeacb4",
   "metadata": {},
   "outputs": [
    {
     "data": {
      "text/plain": [
       "Text(0, 0.5, 'Lucro')"
      ]
     },
     "execution_count": 218,
     "metadata": {},
     "output_type": "execute_result"
    },
    {
     "data": {
      "image/png": "[encoded data removed]",
      "text/plain": [
       "<Figure size 576x396 with 1 Axes>"
      ]
     },
     "metadata": {},
     "output_type": "display_data"
    }
   ],
   "source": [
    "#Gráfico Lucro por mês\n",
    "df_2009.groupby([df_2009['Data Venda'].dt.month])['Lucro'].sum().plot(title='Lucro x Mês')\n",
    "plt.xlabel('Mês da Venda')\n",
    "plt.ylabel('Lucro')"
   ]
  },
  {
   "cell_type": "code",
   "execution_count": 219,
   "id": "91190586",
   "metadata": {},
   "outputs": [
    {
     "data": {
      "image/png": "[encoded data removed]",
      "text/plain": [
       "<Figure size 576x396 with 1 Axes>"
      ]
     },
     "metadata": {},
     "output_type": "display_data"
    }
   ],
   "source": [
    "#Gráfico Lucro por Marca\n",
    "df_2009.groupby('Marca')['Lucro'].sum().plot.bar(title='Lucro xMarca')\n",
    "plt.xlabel('Marca')\n",
    "plt.ylabel('Lucro')\n",
    "plt.xticks(rotation=0);"
   ]
  },
  {
   "cell_type": "code",
   "execution_count": 222,
   "id": "91e78423",
   "metadata": {},
   "outputs": [
    {
     "data": {
      "text/plain": [
       "<AxesSubplot:title={'center':'Lucro x Classe'}, xlabel='Classe'>"
      ]
     },
     "execution_count": 222,
     "metadata": {},
     "output_type": "execute_result"
    },
    {
     "data": {
      "image/png": "[encoded data removed]",
      "text/plain": [
       "<Figure size 576x396 with 1 Axes>"
      ]
     },
     "metadata": {},
     "output_type": "display_data"
    }
   ],
   "source": [
    "#Gráfico Lucro por Classe\n",
    "df_2009.groupby('Classe')['Lucro'].sum().plot.bar(title='Lucro x Classe')"
   ]
  },
  {
   "cell_type": "code",
   "execution_count": 226,
   "id": "c530ee60",
   "metadata": {},
   "outputs": [
    {
     "data": {
      "text/plain": [
       "count                 904.00\n",
       "mean                    8.54\n",
       "std                     3.06\n",
       "min                     4.00\n",
       "25%                     6.00\n",
       "50%                     9.00\n",
       "75%                    11.00\n",
       "max                    20.00\n",
       "Name: Tempo Envio, dtype: float64"
      ]
     },
     "execution_count": 226,
     "metadata": {},
     "output_type": "execute_result"
    }
   ],
   "source": [
    "#Visão geral do tempo de envio com média, desvio, mínimo, máximo\n",
    "df['Tempo Envio'].describe()"
   ]
  },
  {
   "cell_type": "code",
   "execution_count": 228,
   "id": "604c8257",
   "metadata": {},
   "outputs": [
    {
     "data": {
      "image/png": "[encoded data removed]",
      "text/plain": [
       "<Figure size 576x396 with 1 Axes>"
      ]
     },
     "metadata": {},
     "output_type": "display_data"
    }
   ],
   "source": [
    "#Boxplot Tempo de Envio\n",
    "plt.boxplot([df['Tempo Envio']]);"
   ]
  },
  {
   "cell_type": "code",
   "execution_count": 230,
   "id": "059bba57",
   "metadata": {},
   "outputs": [
    {
     "data": {
      "image/png": "[encoded data removed]",
      "text/plain": [
       "<Figure size 576x396 with 1 Axes>"
      ]
     },
     "metadata": {},
     "output_type": "display_data"
    }
   ],
   "source": [
    "plt.hist(df['Tempo Envio']);"
   ]
  },
  {
   "cell_type": "code",
   "execution_count": 231,
   "id": "4678fd37",
   "metadata": {},
   "outputs": [
    {
     "data": {
      "text/html": [
       "<div>\n",
       "<style scoped>\n",
       "    .dataframe tbody tr th:only-of-type {\n",
       "        vertical-align: middle;\n",
       "    }\n",
       "\n",
       "    .dataframe tbody tr th {\n",
       "        vertical-align: top;\n",
       "    }\n",
       "\n",
       "    .dataframe thead th {\n",
       "        text-align: right;\n",
       "    }\n",
       "</style>\n",
       "<table border=\"1\" class=\"dataframe\">\n",
       "  <thead>\n",
       "    <tr style=\"text-align: right;\">\n",
       "      <th></th>\n",
       "      <th>Data Venda</th>\n",
       "      <th>Data Envio</th>\n",
       "      <th>ID Loja</th>\n",
       "      <th>ID Produto</th>\n",
       "      <th>ID Cliente</th>\n",
       "      <th>No. Venda</th>\n",
       "      <th>Custo Unitário</th>\n",
       "      <th>Preço Unitário</th>\n",
       "      <th>Quantidade</th>\n",
       "      <th>Valor Desconto</th>\n",
       "      <th>Valor Venda</th>\n",
       "      <th>Produto</th>\n",
       "      <th>Fabricante</th>\n",
       "      <th>Marca</th>\n",
       "      <th>Classe</th>\n",
       "      <th>Cor</th>\n",
       "      <th>Custo Total</th>\n",
       "      <th>Lucro</th>\n",
       "      <th>Tempo Envio</th>\n",
       "    </tr>\n",
       "  </thead>\n",
       "  <tbody>\n",
       "    <tr>\n",
       "      <th>0</th>\n",
       "      <td>2008-05-09</td>\n",
       "      <td>2008-05-29</td>\n",
       "      <td>199</td>\n",
       "      <td>384</td>\n",
       "      <td>18839</td>\n",
       "      <td>200805093CS607</td>\n",
       "      <td>348.58</td>\n",
       "      <td>758.00</td>\n",
       "      <td>6</td>\n",
       "      <td>0.00</td>\n",
       "      <td>4,548.00</td>\n",
       "      <td>Adventure Works Laptop15.4W M1548 Red</td>\n",
       "      <td>Adventure Works</td>\n",
       "      <td>Adventure Works</td>\n",
       "      <td>Regular</td>\n",
       "      <td>Red</td>\n",
       "      <td>2,091.48</td>\n",
       "      <td>2,456.52</td>\n",
       "      <td>20</td>\n",
       "    </tr>\n",
       "  </tbody>\n",
       "</table>\n",
       "</div>"
      ],
      "text/plain": [
       "  Data Venda Data Envio  ID Loja  ID Produto  ID Cliente       No. Venda  \\\n",
       "0 2008-05-09 2008-05-29      199         384       18839  200805093CS607   \n",
       "\n",
       "        Custo Unitário       Preço Unitário  Quantidade       Valor Desconto  \\\n",
       "0               348.58               758.00           6                 0.00   \n",
       "\n",
       "           Valor Venda                                Produto  \\\n",
       "0             4,548.00  Adventure Works Laptop15.4W M1548 Red   \n",
       "\n",
       "        Fabricante            Marca   Classe  Cor          Custo Total  \\\n",
       "0  Adventure Works  Adventure Works  Regular  Red             2,091.48   \n",
       "\n",
       "                 Lucro  Tempo Envio  \n",
       "0             2,456.52           20  "
      ]
     },
     "execution_count": 231,
     "metadata": {},
     "output_type": "execute_result"
    }
   ],
   "source": [
    "#Análisando OUTLIER\n",
    "df[df['Tempo Envio']==20]"
   ]
  },
  {
   "cell_type": "code",
   "execution_count": 233,
   "id": "42ce08d2",
   "metadata": {},
   "outputs": [],
   "source": [
    "#Salvando a nova base de dados\n",
    "df.to_csv('df_vendas_analisada.csv', index = False)"
   ]
  },
  {
   "cell_type": "code",
   "execution_count": null,
   "id": "b983d3db",
   "metadata": {},
   "outputs": [],
   "source": []
  }
 ],
 "metadata": {
  "kernelspec": {
   "display_name": "Python 3",
   "language": "python",
   "name": "python3"
  },
  "language_info": {
   "codemirror_mode": {
    "name": "ipython",
    "version": 3
   },
   "file_extension": ".py",
   "mimetype": "text/x-python",
   "name": "python",
   "nbconvert_exporter": "python",
   "pygments_lexer": "ipython3",
   "version": "3.8.8"
  }
 },
 "nbformat": 4,
 "nbformat_minor": 5
}
